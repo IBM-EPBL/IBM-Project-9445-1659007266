{
  "nbformat": 4,
  "nbformat_minor": 0,
  "metadata": {
    "colab": {
      "provenance": [],
      "collapsed_sections": []
    },
    "kernelspec": {
      "name": "python3",
      "display_name": "Python 3"
    },
    "language_info": {
      "name": "python"
    }
  },
  "cells": [
    {
      "cell_type": "markdown",
      "source": [
        "Name: Gokul Kavin S\n",
        "\n",
        "Roll No.: 7179KCTKCTKCTKCTKCTKCTKCT19BCS204\n",
        "\n",
        "Batch:  B7 - 1A3E\n",
        "\n",
        "------"
      ],
      "metadata": {
        "id": "br-w-Ui6K_b3"
      }
    },
    {
      "cell_type": "markdown",
      "source": [
        "List creation:"
      ],
      "metadata": {
        "id": "2rWwqiY_78n5"
      }
    },
    {
      "cell_type": "code",
      "execution_count": 1,
      "metadata": {
        "colab": {
          "base_uri": "https://localhost:8080/"
        },
        "id": "P7W95min7z1_",
        "outputId": "b166b02c-25ba-4827-bf94-958c33480112"
      },
      "outputs": [
        {
          "output_type": "stream",
          "name": "stdout",
          "text": [
            "[20, 22, 20]\n"
          ]
        }
      ],
      "source": [
        "list=[]\n",
        "list.append(20)\n",
        "list.append(22)\n",
        "list.append(20)\n",
        "print(list)"
      ]
    },
    {
      "cell_type": "markdown",
      "source": [
        "Insert an integer at specific position:"
      ],
      "metadata": {
        "id": "etiTJS7z8z8X"
      }
    },
    {
      "cell_type": "code",
      "source": [
        "list.insert(1,21)\n",
        "print(list)\n"
      ],
      "metadata": {
        "colab": {
          "base_uri": "https://localhost:8080/"
        },
        "id": "BbAsn2488omC",
        "outputId": "41ddf272-19fd-44c0-e5b4-df28fc0f7799"
      },
      "execution_count": 2,
      "outputs": [
        {
          "output_type": "stream",
          "name": "stdout",
          "text": [
            "[20, 21, 22, 20]\n"
          ]
        }
      ]
    },
    {
      "cell_type": "markdown",
      "source": [
        "Print the list:"
      ],
      "metadata": {
        "id": "SY4bM6k388AQ"
      }
    },
    {
      "cell_type": "code",
      "source": [
        "print(\"List: \")\n",
        "print(list)\n"
      ],
      "metadata": {
        "colab": {
          "base_uri": "https://localhost:8080/"
        },
        "id": "cuhhbaiV9CA6",
        "outputId": "78c045aa-38db-4a8a-a03a-d7c7ea157e29"
      },
      "execution_count": 3,
      "outputs": [
        {
          "output_type": "stream",
          "name": "stdout",
          "text": [
            "List: \n",
            "[20, 21, 22, 20]\n"
          ]
        }
      ]
    },
    {
      "cell_type": "markdown",
      "source": [
        "Remove duplicate integer from the list:"
      ],
      "metadata": {
        "id": "Vrm9rcne9Qrn"
      }
    },
    {
      "cell_type": "code",
      "source": [
        "print(\"\\nList after removing duplicate element:\")\n",
        "list.remove(20)\n",
        "print(list)\n"
      ],
      "metadata": {
        "colab": {
          "base_uri": "https://localhost:8080/"
        },
        "id": "vApUdVDS9Rxh",
        "outputId": "678862c4-597d-4a9e-f16a-a96fcf16a750"
      },
      "execution_count": 4,
      "outputs": [
        {
          "output_type": "stream",
          "name": "stdout",
          "text": [
            "\n",
            "List after removing duplicate element:\n",
            "[21, 22, 20]\n"
          ]
        }
      ]
    },
    {
      "cell_type": "markdown",
      "source": [
        "Insert an integer at the end of the list:"
      ],
      "metadata": {
        "id": "zFe2XXlL9Y5B"
      }
    },
    {
      "cell_type": "code",
      "source": [
        "list.append(23)\n",
        "print(\"\\nList after adding integer at last:\")\n",
        "print(list)\n"
      ],
      "metadata": {
        "colab": {
          "base_uri": "https://localhost:8080/"
        },
        "id": "dXYdQXpA9Z4l",
        "outputId": "ea5b46fc-54f7-412f-811d-3e0dad328352"
      },
      "execution_count": 5,
      "outputs": [
        {
          "output_type": "stream",
          "name": "stdout",
          "text": [
            "\n",
            "List after adding integer at last:\n",
            "[21, 22, 20, 23]\n"
          ]
        }
      ]
    },
    {
      "cell_type": "markdown",
      "source": [
        "Sort the list:"
      ],
      "metadata": {
        "id": "CtJANx0G9n2x"
      }
    },
    {
      "cell_type": "code",
      "source": [
        "list.sort()\n",
        "print(\"\\nList in sorted order:\")\n",
        "print(list)\n"
      ],
      "metadata": {
        "colab": {
          "base_uri": "https://localhost:8080/"
        },
        "id": "VpLttuJx9rU4",
        "outputId": "26af95e4-fce1-442a-a863-c6e21829e4cf"
      },
      "execution_count": 6,
      "outputs": [
        {
          "output_type": "stream",
          "name": "stdout",
          "text": [
            "\n",
            "List in sorted order:\n",
            "[20, 21, 22, 23]\n"
          ]
        }
      ]
    },
    {
      "cell_type": "markdown",
      "source": [
        "Pop the last element from the list:"
      ],
      "metadata": {
        "id": "m--JcPH89we5"
      }
    },
    {
      "cell_type": "code",
      "source": [
        "list.pop()\n",
        "print(\"\\nList after pop operation:\")\n",
        "print(list)\n"
      ],
      "metadata": {
        "colab": {
          "base_uri": "https://localhost:8080/"
        },
        "id": "hH6iM1hX9zcg",
        "outputId": "624b9d9e-c15f-432d-c30b-1e903ce75d54"
      },
      "execution_count": 7,
      "outputs": [
        {
          "output_type": "stream",
          "name": "stdout",
          "text": [
            "\n",
            "List after pop operation:\n",
            "[20, 21, 22]\n"
          ]
        }
      ]
    },
    {
      "cell_type": "markdown",
      "source": [
        "Reverse the list:"
      ],
      "metadata": {
        "id": "vOV9ef8J92sz"
      }
    },
    {
      "cell_type": "code",
      "source": [
        "list.reverse()\n",
        "print(\"\\nList in reversed order:\")\n",
        "print(list)\n"
      ],
      "metadata": {
        "colab": {
          "base_uri": "https://localhost:8080/"
        },
        "id": "fxoe8oFo-BPX",
        "outputId": "e08962a2-ebfb-4c96-9432-7db68c4a34be"
      },
      "execution_count": 8,
      "outputs": [
        {
          "output_type": "stream",
          "name": "stdout",
          "text": [
            "\n",
            "List in reversed order:\n",
            "[22, 21, 20]\n"
          ]
        }
      ]
    },
    {
      "cell_type": "markdown",
      "source": [
        "Write a calculator program in python?"
      ],
      "metadata": {
        "id": "xsITGijO-ONF"
      }
    },
    {
      "cell_type": "code",
      "source": [
        "def add(x, y):    \n",
        "   return x + y   \n",
        "def subtract(x, y):   \n",
        "   return x - y   \n",
        "def multiply(x, y):   \n",
        "   return x * y   \n",
        "def divide(x, y):   \n",
        "   return x / y     \n",
        "\n",
        "options=['a','b','c','d']\n",
        "while(1):\n",
        "    print(\"\\n-----CALCULATOR-----\")\n",
        "    choice = input(\"\\nPress\\na for addition\\nb for subtraction\\nc for multiplication\\nd for division\\ne for exit\\n\")\n",
        "    if choice == 'e':\n",
        "        print(\"Successfully Exited.\")\n",
        "        break\n",
        "    if choice not in options:\n",
        "        print(\"Please enter a valid choice.\")\n",
        "        continue\n",
        "    x = int (input (\"Enter the first number: \"))    \n",
        "    y = int (input (\"Enter the second number: \"))\n",
        "    if choice == 'a':    \n",
        "       print (x, \" + \", y, \" = \", add(x, y))    \n",
        "        \n",
        "    elif choice == 'b':    \n",
        "       print (x, \" - \", y, \" = \", subtract(x, y))    \n",
        "        \n",
        "    elif choice == 'c':    \n",
        "       print (x, \" * \", y, \" = \", multiply(x, y))    \n",
        "    elif choice == 'd':    \n",
        "       print (x, \" / \", y, \" = \", divide(x, y))\n"
      ],
      "metadata": {
        "colab": {
          "base_uri": "https://localhost:8080/"
        },
        "id": "Uv1nrqO0-R8Y",
        "outputId": "d3b6b1bc-6d54-47fc-e7c9-e175c8924ebb"
      },
      "execution_count": 13,
      "outputs": [
        {
          "output_type": "stream",
          "name": "stdout",
          "text": [
            "\n",
            "-----CALCULATOR-----\n",
            "\n",
            "Press\n",
            "a for addition\n",
            "b for subtraction\n",
            "c for multiplication\n",
            "d for division\n",
            "e for exit\n",
            "a\n",
            "Enter the first number: 5\n",
            "Enter the second number: 6\n",
            "5  +  6  =  11\n",
            "\n",
            "-----CALCULATOR-----\n",
            "\n",
            "Press\n",
            "a for addition\n",
            "b for subtraction\n",
            "c for multiplication\n",
            "d for division\n",
            "e for exit\n",
            "b\n",
            "Enter the first number: 5\n",
            "Enter the second number: 3\n",
            "5  -  3  =  2\n",
            "\n",
            "-----CALCULATOR-----\n",
            "\n",
            "Press\n",
            "a for addition\n",
            "b for subtraction\n",
            "c for multiplication\n",
            "d for division\n",
            "e for exit\n",
            "c\n",
            "Enter the first number: 6\n",
            "Enter the second number: 2\n",
            "6  *  2  =  12\n",
            "\n",
            "-----CALCULATOR-----\n",
            "\n",
            "Press\n",
            "a for addition\n",
            "b for subtraction\n",
            "c for multiplication\n",
            "d for division\n",
            "e for exit\n",
            "d\n",
            "Enter the first number: 4\n",
            "Enter the second number: 2\n",
            "4  /  2  =  2.0\n",
            "\n",
            "-----CALCULATOR-----\n",
            "\n",
            "Press\n",
            "a for addition\n",
            "b for subtraction\n",
            "c for multiplication\n",
            "d for division\n",
            "e for exit\n",
            "e\n",
            "Successfully Exited.\n"
          ]
        }
      ]
    },
    {
      "cell_type": "markdown",
      "source": [
        "Write a program to concatenate, reverse and slice a string:"
      ],
      "metadata": {
        "id": "ErgpKapw-wNd"
      }
    },
    {
      "cell_type": "markdown",
      "source": [],
      "metadata": {
        "id": "Mh8xZvs9JL4P"
      }
    },
    {
      "cell_type": "markdown",
      "source": [
        "i.)\tConcatenate:"
      ],
      "metadata": {
        "id": "6gIuaqhB-3Zc"
      }
    },
    {
      "cell_type": "code",
      "source": [
        "a=\"Hi,\"\n",
        "b=\"Have a great day\"\n",
        "c=a+\" \"+b\n",
        "print(\"Concatenation of two string:\")\n",
        "print(c)\n"
      ],
      "metadata": {
        "colab": {
          "base_uri": "https://localhost:8080/"
        },
        "id": "FAKd5b7i-zyj",
        "outputId": "40c3e729-e81a-4758-d164-d3d49f215aed"
      },
      "execution_count": 10,
      "outputs": [
        {
          "output_type": "stream",
          "name": "stdout",
          "text": [
            "Concatenation of two string:\n",
            "Hi, Have a great day\n"
          ]
        }
      ]
    },
    {
      "cell_type": "markdown",
      "source": [
        "ii.)\tReverse:"
      ],
      "metadata": {
        "id": "4mfpxeQR_Emd"
      }
    },
    {
      "cell_type": "code",
      "source": [
        "print(\"\\nReversed String:\")\n",
        "reversedString=c[::-1]\n",
        "print(reversedString)\n"
      ],
      "metadata": {
        "colab": {
          "base_uri": "https://localhost:8080/"
        },
        "id": "9ATAyqW7_JLs",
        "outputId": "54384431-dd6b-4ec9-81a7-db9cd75684ad"
      },
      "execution_count": 11,
      "outputs": [
        {
          "output_type": "stream",
          "name": "stdout",
          "text": [
            "\n",
            "Reversed String:\n",
            "yad taerg a evaH ,iH\n"
          ]
        }
      ]
    },
    {
      "cell_type": "markdown",
      "source": [
        "iii.)\tSlice:"
      ],
      "metadata": {
        "id": "x3XHZFj7_M1c"
      }
    },
    {
      "cell_type": "code",
      "source": [
        "print(\"\\nSliced String:\"+c[4:17]+'evening')"
      ],
      "metadata": {
        "colab": {
          "base_uri": "https://localhost:8080/"
        },
        "id": "7lG5c-t0_TQs",
        "outputId": "9ea65ecb-1763-4f56-c8d0-e0aac4e481ed"
      },
      "execution_count": 12,
      "outputs": [
        {
          "output_type": "stream",
          "name": "stdout",
          "text": [
            "\n",
            "Sliced String:Have a great evening\n"
          ]
        }
      ]
    },
    {
      "cell_type": "markdown",
      "source": [
        "**Why is python a popular programming language?**\n",
        "\n",
        "* High-level programming language: With Python, the code looks very close to how humans think. For this purpose, it must abstract the details of the computer from you: memory management, pointers,… Hence, it is slower than “lower-level language” like C;\n",
        "* Python is interpreted and not compiled: Sure, this statement is a gross simplification but it’s somehow correct. During the execution, Python code is interpreted at runtime instead of being compiled to native code at compile time;\n",
        "* Python is a dynamically typed language: Unlike “statically-typed” languages like C, C++ or Java, you don’t have to declare the variable type like String, boolean or int. The less you do, the more your computer has to work. For each attribute access, tons of lookup is required. In addition, being very dynamic makes it incredibly hard to optimize Python;\n",
        "\n",
        "\n",
        "---\n",
        "\n",
        "**What are the other frameworks that can be used with python?**\n",
        "* Django\n",
        "* Flask\n",
        "* CherryPy\n",
        "* FastAPI\n",
        "* Web2py\n",
        "---\n",
        "**What is the full form for WSGI?**\n",
        "* WSGI stands for \"Web Server Gateway Interface\".\n",
        "* The Web Server Gateway Interface (WSGI) is a standard interface between web server software and web applications written in Python. Having a standard interface makes it easy to use an application that supports WSGI with a number of different web servers.\n",
        "* It is used to forward requests from a web server (such as Apache or NGINX) to a backend Python web application or framework.\n",
        "\n"
      ],
      "metadata": {
        "id": "yBQy_HDZASwS"
      }
    },
    {
      "cell_type": "code",
      "source": [],
      "metadata": {
        "id": "sd3nuC_6MR9m"
      },
      "execution_count": null,
      "outputs": []
    }
  ]
}