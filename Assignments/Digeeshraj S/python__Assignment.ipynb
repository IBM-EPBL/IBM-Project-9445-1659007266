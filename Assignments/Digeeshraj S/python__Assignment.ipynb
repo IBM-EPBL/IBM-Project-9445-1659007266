{
  "nbformat": 4,
  "nbformat_minor": 0,
  "metadata": {
    "colab": {
      "provenance": [],
      "collapsed_sections": []
    },
    "kernelspec": {
      "name": "python3",
      "display_name": "Python 3"
    },
    "language_info": {
      "name": "python"
    }
  },
  "cells": [
    {
      "cell_type": "markdown",
      "source": [
        "NAME : Digeeshraj S \n",
        "\n",
        "ROLLNO :\t7179KCTKCTKCTKCTKCTKCTKCT19BCS203\n",
        "\n",
        "BATCH : B7 - 1A3E"
      ],
      "metadata": {
        "id": "E29WlsB5JtV_"
      }
    },
    {
      "cell_type": "markdown",
      "source": [
        "List creation:"
      ],
      "metadata": {
        "id": "2rWwqiY_78n5"
      }
    },
    {
      "cell_type": "code",
      "execution_count": null,
      "metadata": {
        "colab": {
          "base_uri": "https://localhost:8080/"
        },
        "id": "P7W95min7z1_",
        "outputId": "f0fd37d8-02d8-4a07-da20-8d4e2f06a16f"
      },
      "outputs": [
        {
          "output_type": "stream",
          "name": "stdout",
          "text": [
            "[20, 22, 20]\n"
          ]
        }
      ],
      "source": [
        "list=[]\n",
        "list.append(20)\n",
        "list.append(22)\n",
        "list.append(20)\n",
        "print(list)"
      ]
    },
    {
      "cell_type": "markdown",
      "source": [
        "Insert an integer at specific position:"
      ],
      "metadata": {
        "id": "etiTJS7z8z8X"
      }
    },
    {
      "cell_type": "code",
      "source": [
        "list.insert(1,21)\n",
        "print(list)\n"
      ],
      "metadata": {
        "colab": {
          "base_uri": "https://localhost:8080/"
        },
        "id": "BbAsn2488omC",
        "outputId": "f7a05a9d-08fd-4b7e-ae38-bb21c14c5320"
      },
      "execution_count": null,
      "outputs": [
        {
          "output_type": "stream",
          "name": "stdout",
          "text": [
            "[20, 21, 22, 20]\n"
          ]
        }
      ]
    },
    {
      "cell_type": "markdown",
      "source": [
        "Print the list:"
      ],
      "metadata": {
        "id": "SY4bM6k388AQ"
      }
    },
    {
      "cell_type": "code",
      "source": [
        "print(\"List: \")\n",
        "print(list)\n"
      ],
      "metadata": {
        "colab": {
          "base_uri": "https://localhost:8080/"
        },
        "id": "cuhhbaiV9CA6",
        "outputId": "a8e49ee1-a1b8-4e31-e4d1-d6afcaafee26"
      },
      "execution_count": null,
      "outputs": [
        {
          "output_type": "stream",
          "name": "stdout",
          "text": [
            "List: \n",
            "[20, 21, 22, 20]\n"
          ]
        }
      ]
    },
    {
      "cell_type": "markdown",
      "source": [
        "Remove duplicate integer from the list:"
      ],
      "metadata": {
        "id": "Vrm9rcne9Qrn"
      }
    },
    {
      "cell_type": "code",
      "source": [
        "print(\"\\nList after removing duplicate element:\")\n",
        "list.remove(20)\n",
        "print(list)\n"
      ],
      "metadata": {
        "colab": {
          "base_uri": "https://localhost:8080/"
        },
        "id": "vApUdVDS9Rxh",
        "outputId": "b3a2b7c2-445d-4249-ec8b-1bfb1cc71e17"
      },
      "execution_count": null,
      "outputs": [
        {
          "output_type": "stream",
          "name": "stdout",
          "text": [
            "\n",
            "List after removing duplicate element:\n",
            "[21, 22, 20]\n"
          ]
        }
      ]
    },
    {
      "cell_type": "markdown",
      "source": [
        "Insert an integer at the end of the list:"
      ],
      "metadata": {
        "id": "zFe2XXlL9Y5B"
      }
    },
    {
      "cell_type": "code",
      "source": [
        "list.append(23)\n",
        "print(\"\\nList after adding integer at last:\")\n",
        "print(list)\n"
      ],
      "metadata": {
        "colab": {
          "base_uri": "https://localhost:8080/"
        },
        "id": "dXYdQXpA9Z4l",
        "outputId": "50e57ecb-6288-44f3-ae89-4f27d4eb877d"
      },
      "execution_count": null,
      "outputs": [
        {
          "output_type": "stream",
          "name": "stdout",
          "text": [
            "\n",
            "List after adding integer at last:\n",
            "[21, 22, 20, 23]\n"
          ]
        }
      ]
    },
    {
      "cell_type": "markdown",
      "source": [
        "Sort the list:"
      ],
      "metadata": {
        "id": "CtJANx0G9n2x"
      }
    },
    {
      "cell_type": "code",
      "source": [
        "list.sort()\n",
        "print(\"\\nList in sorted order:\")\n",
        "print(list)\n"
      ],
      "metadata": {
        "colab": {
          "base_uri": "https://localhost:8080/"
        },
        "id": "VpLttuJx9rU4",
        "outputId": "ce901b40-93bc-4c45-a4a6-501eeb01710d"
      },
      "execution_count": null,
      "outputs": [
        {
          "output_type": "stream",
          "name": "stdout",
          "text": [
            "\n",
            "List in sorted order:\n",
            "[20, 21, 22, 23]\n"
          ]
        }
      ]
    },
    {
      "cell_type": "markdown",
      "source": [
        "Pop the last element from the list:"
      ],
      "metadata": {
        "id": "m--JcPH89we5"
      }
    },
    {
      "cell_type": "code",
      "source": [
        "list.pop()\n",
        "print(\"\\nList after pop operation:\")\n",
        "print(list)\n"
      ],
      "metadata": {
        "colab": {
          "base_uri": "https://localhost:8080/"
        },
        "id": "hH6iM1hX9zcg",
        "outputId": "cf27c0f6-18af-4c91-ba6b-f8f3857a468b"
      },
      "execution_count": null,
      "outputs": [
        {
          "output_type": "stream",
          "name": "stdout",
          "text": [
            "\n",
            "List after pop operation:\n",
            "[20, 21, 22]\n"
          ]
        }
      ]
    },
    {
      "cell_type": "markdown",
      "source": [
        "Reverse the list:"
      ],
      "metadata": {
        "id": "vOV9ef8J92sz"
      }
    },
    {
      "cell_type": "code",
      "source": [
        "list.reverse()\n",
        "print(\"\\nList in reversed order:\")\n",
        "print(list)\n"
      ],
      "metadata": {
        "colab": {
          "base_uri": "https://localhost:8080/"
        },
        "id": "fxoe8oFo-BPX",
        "outputId": "4c4bbbb5-7dbe-48de-be0b-c07567be2df7"
      },
      "execution_count": null,
      "outputs": [
        {
          "output_type": "stream",
          "name": "stdout",
          "text": [
            "\n",
            "List in reversed order:\n",
            "[22, 21, 20]\n"
          ]
        }
      ]
    },
    {
      "cell_type": "markdown",
      "source": [
        "Write a calculator program in python?"
      ],
      "metadata": {
        "id": "xsITGijO-ONF"
      }
    },
    {
      "cell_type": "code",
      "source": [
        "\n",
        "def add(P, Q):    \n",
        "   return P + Q   \n",
        "def subtract(P, Q):   \n",
        "   return P - Q   \n",
        "def multiply(P, Q):   \n",
        "   return P * Q   \n",
        "def divide(P, Q):   \n",
        "   return P / Q     \n",
        "\n",
        "li=['a','b','c','d']\n",
        "while(1):\n",
        "    print(\"\\n+++***///===CALCULATOR===///***+++\")\n",
        "    choice = input(\"\\nPress\\na for addition\\nb for subtraction\\nc for multiplication\\nd for division\\ne for exit\\n\")\n",
        "    if choice =='e':\n",
        "        print(\"Successfully Exited\")\n",
        "        break\n",
        "    if choice not in li:\n",
        "        print(\"Please enter a valid choice\")\n",
        "        continue\n",
        "    P = int (input (\"Please enter the first number: \"))    \n",
        "    Q = int (input (\"Please enter the second number: \"))\n",
        "    if choice == 'a':    \n",
        "       print (P, \" + \", Q, \" = \", add(P, Q))    \n",
        "        \n",
        "    elif choice == 'b':    \n",
        "       print (P, \" - \", Q, \" = \", subtract(P, Q))    \n",
        "        \n",
        "    elif choice == 'c':    \n",
        "       print (P, \" * \", Q, \" = \", multiply(P, Q))    \n",
        "    elif choice == 'd':    \n",
        "       print (P, \" / \", Q, \" = \", divide(P, Q))\n"
      ],
      "metadata": {
        "colab": {
          "base_uri": "https://localhost:8080/"
        },
        "id": "Uv1nrqO0-R8Y",
        "outputId": "3baf43b2-4bd5-4d00-ba4e-cb6bbbb396c4"
      },
      "execution_count": null,
      "outputs": [
        {
          "output_type": "stream",
          "name": "stdout",
          "text": [
            "\n",
            "+++***///===CALCULATOR===///***+++\n",
            "\n",
            "Press\n",
            "a for addition\n",
            "b for subtraction\n",
            "c for multiplication\n",
            "d for division\n",
            "e for exit\n",
            "a\n",
            "Please enter the first number: 4\n",
            "Please enter the second number: 5\n",
            "4  +  5  =  9\n",
            "\n",
            "+++***///===CALCULATOR===///***+++\n",
            "\n",
            "Press\n",
            "a for addition\n",
            "b for subtraction\n",
            "c for multiplication\n",
            "d for division\n",
            "e for exit\n",
            "e\n",
            "Successfully Exited\n"
          ]
        }
      ]
    },
    {
      "cell_type": "markdown",
      "source": [
        "Write a program to concatenate, reverse and slice a string:"
      ],
      "metadata": {
        "id": "ErgpKapw-wNd"
      }
    },
    {
      "cell_type": "markdown",
      "source": [
        "i.)\tConcatenate:"
      ],
      "metadata": {
        "id": "6gIuaqhB-3Zc"
      }
    },
    {
      "cell_type": "code",
      "source": [
        "a=\"Hi,\"\n",
        "b=\"Have a great day\"\n",
        "c=a+\" \"+b\n",
        "print(\"Concatenation of two string:\")\n",
        "print(c)\n"
      ],
      "metadata": {
        "colab": {
          "base_uri": "https://localhost:8080/"
        },
        "id": "FAKd5b7i-zyj",
        "outputId": "aa1dbf92-9cbb-4c75-d7fc-0237c1b1a5f4"
      },
      "execution_count": null,
      "outputs": [
        {
          "output_type": "stream",
          "name": "stdout",
          "text": [
            "Concatenation of two string:\n",
            "Hi, Have a great day\n"
          ]
        }
      ]
    },
    {
      "cell_type": "markdown",
      "source": [
        "ii.)\tReverse:"
      ],
      "metadata": {
        "id": "4mfpxeQR_Emd"
      }
    },
    {
      "cell_type": "code",
      "source": [
        "print(\"\\nReversed String:\")\n",
        "reversedString=c[::-1]\n",
        "print(reversedString)\n"
      ],
      "metadata": {
        "colab": {
          "base_uri": "https://localhost:8080/"
        },
        "id": "9ATAyqW7_JLs",
        "outputId": "01c28c60-5487-48ea-b253-40dd85d89f0e"
      },
      "execution_count": null,
      "outputs": [
        {
          "output_type": "stream",
          "name": "stdout",
          "text": [
            "\n",
            "Reversed String:\n",
            "yad taerg a evaH ,iH\n"
          ]
        }
      ]
    },
    {
      "cell_type": "markdown",
      "source": [
        "iii.)\tSlice:"
      ],
      "metadata": {
        "id": "x3XHZFj7_M1c"
      }
    },
    {
      "cell_type": "code",
      "source": [
        "print(\"\\nSliced String:\"+c[4:17]+'evening')"
      ],
      "metadata": {
        "colab": {
          "base_uri": "https://localhost:8080/"
        },
        "id": "7lG5c-t0_TQs",
        "outputId": "7111eb99-cc34-49d6-aff3-55ce65bd665c"
      },
      "execution_count": null,
      "outputs": [
        {
          "output_type": "stream",
          "name": "stdout",
          "text": [
            "\n",
            "Sliced String:Have a great evening\n"
          ]
        }
      ]
    },
    {
      "cell_type": "markdown",
      "source": [
        "**Why is python a popular programming language?**\n",
        "\n",
        "* High-level programming language: With Python, the code looks very close to how humans think. For this purpose, it must abstract the details of the computer from you: memory management, pointers,… Hence, it is slower than “lower-level language” like C;\n",
        "* Python is interpreted and not compiled: Sure, this statement is a gross simplification but it’s somehow correct. During the execution, Python code is interpreted at runtime instead of being compiled to native code at compile time;\n",
        "* Python is a dynamically typed language: Unlike “statically-typed” languages like C, C++ or Java, you don’t have to declare the variable type like String, boolean or int. The less you do, the more your computer has to work. For each attribute access, tons of lookup is required. In addition, being very dynamic makes it incredibly hard to optimize Python;\n",
        "\n",
        "\n",
        "---\n",
        "\n",
        "**What are the other frameworks that can be used with python?**\n",
        "* Django\n",
        "* Flask\n",
        "* CherryPy\n",
        "* FastAPI\n",
        "* Web2py\n",
        "---\n",
        "**What is the full form for WSGI?**\n",
        "* WSGI stands for \"Web Server Gateway Interface\".\n",
        "* The Web Server Gateway Interface (WSGI) is a standard interface between web server software and web applications written in Python. Having a standard interface makes it easy to use an application that supports WSGI with a number of different web servers.\n",
        "* It is used to forward requests from a web server (such as Apache or NGINX) to a backend Python web application or framework.\n",
        "\n"
      ],
      "metadata": {
        "id": "yBQy_HDZASwS"
      }
    }
  ]
}